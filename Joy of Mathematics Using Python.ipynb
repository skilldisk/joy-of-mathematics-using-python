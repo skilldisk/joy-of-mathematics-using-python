{
 "cells": [
  {
   "cell_type": "markdown",
   "id": "available-shaft",
   "metadata": {
    "rise": {
     "theme": "black"
    },
    "slideshow": {
     "slide_type": "slide"
    }
   },
   "source": [
    "<center>\n",
    "<img src=\"https://skilldisk.com/static/image/about/aboutus.png\" style=\"height:50vh\" />\n",
    "</center>\n",
    "\n",
    "<h1>\" JOY of Mathematics Using Python \"</h1>\n"
   ]
  },
  {
   "cell_type": "markdown",
   "id": "cardiac-following",
   "metadata": {
    "slideshow": {
     "slide_type": "slide"
    }
   },
   "source": [
    "### Todays Agenda"
   ]
  },
  {
   "cell_type": "markdown",
   "id": "everyday-consolidation",
   "metadata": {
    "slideshow": {
     "slide_type": "fragment"
    }
   },
   "source": [
    "##### 1. Libraries available for Mathematical operations"
   ]
  },
  {
   "cell_type": "markdown",
   "id": "thousand-avatar",
   "metadata": {
    "slideshow": {
     "slide_type": "fragment"
    }
   },
   "source": [
    "##### 2. Solving Mathematical equations interactively using python"
   ]
  },
  {
   "cell_type": "markdown",
   "id": "molecular-starter",
   "metadata": {
    "slideshow": {
     "slide_type": "fragment"
    }
   },
   "source": [
    "##### 3. Optimising the python code and runtime using Mathematics"
   ]
  },
  {
   "cell_type": "markdown",
   "id": "buried-basketball",
   "metadata": {
    "slideshow": {
     "slide_type": "fragment"
    }
   },
   "source": [
    "##### 4. Conclusion"
   ]
  },
  {
   "cell_type": "markdown",
   "id": "purple-selection",
   "metadata": {
    "slideshow": {
     "slide_type": "slide"
    }
   },
   "source": [
    "# List of Libraries\n",
    "\n",
    "1. [Math](https://docs.python.org/3/library/math.html).\n",
    "2. [Numpy](http://www.numpy.org/)\n",
    "3. [Sympy](http://www.sympy.org/)\n",
    "4. [ALGLIB](https://www.alglib.net/)\n",
    "5. [GmPy](http://gmpy.sourceforge.net/)\n",
    "6. [mpmath](https://mpmath.org/)\n",
    "7. Many more....(Please refer Python.org website for more details)"
   ]
  },
  {
   "cell_type": "markdown",
   "id": "professional-leonard",
   "metadata": {
    "slideshow": {
     "slide_type": "skip"
    }
   },
   "source": [
    "-------------------------------------------"
   ]
  },
  {
   "cell_type": "markdown",
   "id": "innovative-bronze",
   "metadata": {
    "slideshow": {
     "slide_type": "slide"
    }
   },
   "source": [
    "# Solving Mathematical equations interactively using python"
   ]
  },
  {
   "cell_type": "markdown",
   "id": "complicated-degree",
   "metadata": {
    "slideshow": {
     "slide_type": "slide"
    }
   },
   "source": [
    "# Plotting a Sine Wave"
   ]
  },
  {
   "cell_type": "markdown",
   "id": "isolated-semester",
   "metadata": {
    "slideshow": {
     "slide_type": "slide"
    }
   },
   "source": [
    "General plotting"
   ]
  },
  {
   "cell_type": "code",
   "execution_count": 15,
   "id": "invalid-canberra",
   "metadata": {
    "slideshow": {
     "slide_type": "subslide"
    }
   },
   "outputs": [
    {
     "data": {
      "image/png": "[encoded data removed]",
      "text/plain": [
       "<Figure size 432x288 with 1 Axes>"
      ]
     },
     "metadata": {
      "needs_background": "light"
     },
     "output_type": "display_data"
    }
   ],
   "source": [
    "import numpy as np\n",
    "import matplotlib.pyplot as plt\n",
    "\n",
    "x = np.linspace(0, 20, 1000)\n",
    "\n",
    "magnitude = 20\n",
    "\n",
    "y = magnitude * np.sin(x)\n",
    "\n",
    "\n",
    "fig, ax = plt.subplots()\n",
    "\n",
    "line1, = ax.plot(x, y, label='General plotting of Sine wave')\n",
    "line1.set_dashes([2, 2, 10, 2])  # 2pt line, 2pt break, 10pt line, 2pt break\n",
    "\n",
    "ax.legend()\n",
    "plt.show()"
   ]
  },
  {
   "cell_type": "markdown",
   "id": "premier-light",
   "metadata": {
    "slideshow": {
     "slide_type": "slide"
    }
   },
   "source": [
    "Interactive Plotting"
   ]
  },
  {
   "cell_type": "code",
   "execution_count": 16,
   "id": "adjusted-business",
   "metadata": {
    "slideshow": {
     "slide_type": "subslide"
    }
   },
   "outputs": [],
   "source": [
    "from ipywidgets import interact, interactive\n",
    "import ipywidgets as widgets"
   ]
  },
  {
   "cell_type": "markdown",
   "id": "disciplinary-interim",
   "metadata": {},
   "source": [
    "# this is heading"
   ]
  },
  {
   "cell_type": "code",
   "execution_count": 17,
   "id": "impressed-spiritual",
   "metadata": {
    "slideshow": {
     "slide_type": "subslide"
    }
   },
   "outputs": [],
   "source": [
    "import numpy as np\n",
    "import matplotlib.pyplot as plt\n",
    "\n",
    "x = np.linspace(0, 20, 1000)\n",
    "\n",
    "#create a function to calculate magnitude\n",
    "def mag(m):\n",
    "    \n",
    "    y = m*np.sin(x)\n",
    "\n",
    "    fig, ax = plt.subplots()\n",
    "\n",
    "    line1, = ax.plot(x, y, label='Plotting a Sine wave Interactively')\n",
    "#     line1.set_dashes([2, 2, 10, 2])  # 2pt line, 2pt break, 10pt line, 2pt break\n",
    "\n",
    "\n",
    "\n",
    "    ax.legend()\n",
    "    ax.grid()\n",
    "    plt.show()"
   ]
  },
  {
   "cell_type": "code",
   "execution_count": 18,
   "id": "static-birmingham",
   "metadata": {
    "slideshow": {
     "slide_type": "subslide"
    }
   },
   "outputs": [
    {
     "data": {
      "application/vnd.jupyter.widget-view+json": {
       "model_id": "3cfccfbc67954d0aa1fcb53e5b51ad6b",
       "version_major": 2,
       "version_minor": 0
      },
      "text/plain": [
       "interactive(children=(IntSlider(value=10, description='m', max=230, min=-20, step=2), Output()), _dom_classes=…"
      ]
     },
     "metadata": {},
     "output_type": "display_data"
    }
   ],
   "source": [
    "interact(mag, m=widgets.IntSlider(min=-20, max=230, step=2, value=10));"
   ]
  },
  {
   "cell_type": "markdown",
   "id": "tired-travel",
   "metadata": {
    "slideshow": {
     "slide_type": "slide"
    }
   },
   "source": [
    "### Plot a Quadratic expression for  $$a.x^2 + b.x +c$$"
   ]
  },
  {
   "cell_type": "code",
   "execution_count": 19,
   "id": "chinese-myrtle",
   "metadata": {
    "slideshow": {
     "slide_type": "subslide"
    }
   },
   "outputs": [],
   "source": [
    "import numpy as np\n",
    "import matplotlib.pyplot as plt\n",
    "\n",
    "x = np.linspace(-4, 4, 100)\n",
    "\n",
    "def quad(a,b,c):\n",
    "    \n",
    "    y = (a*x**2)+(b*x)+c\n",
    "\n",
    "    fig, ax = plt.subplots()\n",
    "\n",
    "    line1, = ax.plot(x, y, label=\"Plotting Quadratic Expression\")\n",
    "\n",
    "    ax.legend()\n",
    "    ax.grid()\n",
    "    ax.set(xlim=(-5, 5), ylim=(-30, 60))\n",
    "    plt.show()"
   ]
  },
  {
   "cell_type": "code",
   "execution_count": 20,
   "id": "native-wales",
   "metadata": {
    "slideshow": {
     "slide_type": "subslide"
    }
   },
   "outputs": [
    {
     "data": {
      "application/vnd.jupyter.widget-view+json": {
       "model_id": "d03eb640d41045a09307850c1fcbfd46",
       "version_major": 2,
       "version_minor": 0
      },
      "text/plain": [
       "interactive(children=(IntSlider(value=1, description='a', max=3, min=-3), IntSlider(value=1, description='b', …"
      ]
     },
     "metadata": {},
     "output_type": "display_data"
    }
   ],
   "source": [
    "interact(quad, \n",
    "         a=widgets.IntSlider(min=-3, max=3, step=1, value=1), \n",
    "         b=widgets.IntSlider(min=-5, max=5, step=1, value=1),\n",
    "         c=widgets.IntSlider(min=-10, max=10, step=1, value=1));"
   ]
  },
  {
   "cell_type": "markdown",
   "id": "comprehensive-suspension",
   "metadata": {
    "slideshow": {
     "slide_type": "skip"
    }
   },
   "source": [
    "------------------------------------------------"
   ]
  },
  {
   "cell_type": "markdown",
   "id": "crucial-device",
   "metadata": {
    "slideshow": {
     "slide_type": "slide"
    }
   },
   "source": [
    "# Optimising the python code and runtime using Mathematics"
   ]
  },
  {
   "cell_type": "markdown",
   "id": "referenced-aviation",
   "metadata": {
    "slideshow": {
     "slide_type": "slide"
    }
   },
   "source": [
    "1. Sum of first n natural numbers.\n",
    "\n",
    " sum = 1+2+3+.....+n"
   ]
  },
  {
   "cell_type": "code",
   "execution_count": 65,
   "id": "appreciated-success",
   "metadata": {
    "slideshow": {
     "slide_type": "subslide"
    }
   },
   "outputs": [
    {
     "name": "stdout",
     "output_type": "stream",
     "text": [
      "Enter the value of n: 123456\n"
     ]
    }
   ],
   "source": [
    "n = int(input(\"Enter the value of n: \"))"
   ]
  },
  {
   "cell_type": "code",
   "execution_count": 68,
   "id": "involved-eclipse",
   "metadata": {
    "slideshow": {
     "slide_type": "subslide"
    }
   },
   "outputs": [
    {
     "name": "stdout",
     "output_type": "stream",
     "text": [
      "Sum of 123456 positive integer is 58075886895097660416\n",
      "Time taken for execution 85.12473106384277 ms\n"
     ]
    }
   ],
   "source": [
    "import time\n",
    "\n",
    "sum = 0\n",
    "\n",
    "start = time.time()\n",
    "\n",
    "for i in range(1,n+1):\n",
    "#     sum = i + sum\n",
    "    sum += i**3\n",
    "    \n",
    "print(f'Sum of {n} positive integer is {sum}')\n",
    "\n",
    "end = time.time()\n",
    "\n",
    "print(f'Time taken for execution {(end - start)*1000} ms')"
   ]
  },
  {
   "cell_type": "markdown",
   "id": "sophisticated-pound",
   "metadata": {
    "slideshow": {
     "slide_type": "subslide"
    }
   },
   "source": [
    "$$ Sum = \\frac{n*(n+1)}{2} $$"
   ]
  },
  {
   "cell_type": "code",
   "execution_count": 69,
   "id": "olympic-conclusion",
   "metadata": {
    "slideshow": {
     "slide_type": "subslide"
    }
   },
   "outputs": [
    {
     "name": "stdout",
     "output_type": "stream",
     "text": [
      "Sum of 123456 positive integer is 58075886895097659392\n",
      "Time taken for execution 0.0 ms\n"
     ]
    }
   ],
   "source": [
    "start = time.time() #storing the start time\n",
    "\n",
    "sum = (n*(n+1)/2)**2\n",
    "    \n",
    "print(f'Sum of {n} positive integer is {int(sum)}')\n",
    "\n",
    "end = time.time() #storing the end time\n",
    "\n",
    "print(f'Time taken for execution {(end - start)*1000} ms')"
   ]
  },
  {
   "cell_type": "markdown",
   "id": "passive-translation",
   "metadata": {
    "slideshow": {
     "slide_type": "subslide"
    }
   },
   "source": [
    "Sum of first n^3\n",
    "$$ Sum = (\\frac{n*(n+1)}{2})^2 $$"
   ]
  },
  {
   "cell_type": "markdown",
   "id": "scenic-reform",
   "metadata": {
    "slideshow": {
     "slide_type": "slide"
    }
   },
   "source": [
    "### Missing coin Sum problem."
   ]
  },
  {
   "cell_type": "markdown",
   "id": "pointed-sunrise",
   "metadata": {
    "slideshow": {
     "slide_type": "subslide"
    }
   },
   "source": [
    "Given a set of n coins with random values, What is the minimum value which cannot be obtained by adding the values of coins.\n",
    "\n",
    "Eg: n = 5  and coins = 6,1,8,1,2"
   ]
  },
  {
   "cell_type": "markdown",
   "id": "expired-hotel",
   "metadata": {
    "slideshow": {
     "slide_type": "subslide"
    }
   },
   "source": [
    "We can obtain\n",
    "* 1 : directly\n",
    "* 2 : directly\n",
    "* 3 : adding coins 1 + 2\n",
    "* 4 : adding coins 1 + 1 + 2\n",
    "* 5 : cannot be obtained\n",
    "\n",
    "so 5 is the answer. "
   ]
  },
  {
   "cell_type": "code",
   "execution_count": 79,
   "id": "manufactured-inquiry",
   "metadata": {
    "slideshow": {
     "slide_type": "slide"
    }
   },
   "outputs": [
    {
     "name": "stdout",
     "output_type": "stream",
     "text": [
      "Enter the number of coins : 15\n"
     ]
    }
   ],
   "source": [
    "# number of coins\n",
    "n = int(input(\"Enter the number of coins : \"))"
   ]
  },
  {
   "cell_type": "code",
   "execution_count": 80,
   "id": "combined-source",
   "metadata": {
    "slideshow": {
     "slide_type": "slide"
    }
   },
   "outputs": [
    {
     "name": "stdout",
     "output_type": "stream",
     "text": [
      "Enter the coin value : 8\n",
      "Enter the coin value : 11\n",
      "Enter the coin value : 12\n",
      "Enter the coin value : 15\n",
      "Enter the coin value : 20\n",
      "Enter the coin value : 1\n",
      "Enter the coin value : 2\n",
      "Enter the coin value : 9\n",
      "Enter the coin value : 8\n",
      "Enter the coin value : 11\n",
      "Enter the coin value : 20\n",
      "Enter the coin value : 6\n",
      "Enter the coin value : 4\n",
      "Enter the coin value : 6\n",
      "Enter the coin value : 23\n"
     ]
    }
   ],
   "source": [
    "coins = []\n",
    "\n",
    "for i in range(n):\n",
    "    coin = int(input(\"Enter the coin value : \"))\n",
    "    coins.append(coin)"
   ]
  },
  {
   "cell_type": "markdown",
   "id": "average-grade",
   "metadata": {
    "slideshow": {
     "slide_type": "slide"
    }
   },
   "source": [
    "# how a programmer approaches the problem using bruteforce"
   ]
  },
  {
   "cell_type": "code",
   "execution_count": 72,
   "id": "completed-madonna",
   "metadata": {
    "slideshow": {
     "slide_type": "subslide"
    }
   },
   "outputs": [
    {
     "name": "stdout",
     "output_type": "stream",
     "text": [
      "[[], [6], [1], [6, 1], [8], [6, 8], [1, 8], [6, 1, 8], [1], [6, 1], [1, 1], [6, 1, 1], [8, 1], [6, 8, 1], [1, 8, 1], [6, 1, 8, 1], [2], [6, 2], [1, 2], [6, 1, 2], [8, 2], [6, 8, 2], [1, 8, 2], [6, 1, 8, 2], [1, 2], [6, 1, 2], [1, 1, 2], [6, 1, 1, 2], [8, 1, 2], [6, 8, 1, 2], [1, 8, 1, 2], [6, 1, 8, 1, 2]]\n"
     ]
    }
   ],
   "source": [
    "def sub_sets(l): \n",
    "    base = []   \n",
    "    sub_lists = [base] \n",
    "    for i in range(len(l)): \n",
    "        orig = sub_lists[:] \n",
    "        new = l[i] \n",
    "        for j in range(len(sub_lists)): \n",
    "            sub_lists[j] = sub_lists[j] + [new] \n",
    "        sub_lists = orig + sub_lists \n",
    "          \n",
    "    return sub_lists \n",
    "  \n",
    "subsets = sub_sets(coins)\n",
    "print(subsets)\n",
    "    "
   ]
  },
  {
   "cell_type": "code",
   "execution_count": 73,
   "id": "other-russell",
   "metadata": {
    "slideshow": {
     "slide_type": "subslide"
    }
   },
   "outputs": [
    {
     "name": "stdout",
     "output_type": "stream",
     "text": [
      "[6, 1, 7, 8, 14, 9, 15, 1, 7, 2, 8, 9, 15, 10, 16, 2, 8, 3, 9, 10, 16, 11, 17, 3, 9, 4, 10, 11, 17, 12, 18]\n"
     ]
    }
   ],
   "source": [
    "sum_list = []\n",
    "for i in range(1,len(subsets)):\n",
    "    if len(subsets[i])>1:\n",
    "        sum_x = 0\n",
    "        for j in range(len(subsets[i])):\n",
    "            sum_x +=subsets[i][j]\n",
    "        sum_list.append(sum_x)\n",
    "    else:\n",
    "        sum_list.append(subsets[i][0])\n",
    "\n",
    "print(sum_list)"
   ]
  },
  {
   "cell_type": "code",
   "execution_count": 75,
   "id": "spiritual-entity",
   "metadata": {
    "slideshow": {
     "slide_type": "subslide"
    }
   },
   "outputs": [
    {
     "name": "stdout",
     "output_type": "stream",
     "text": [
      "{1, 2, 3, 4, 6, 7, 8, 9, 10, 11, 12, 14, 15, 16, 17, 18}\n",
      "The missing sum is 5\n"
     ]
    }
   ],
   "source": [
    "sum_set = set(sum_list)\n",
    "print(sum_set)\n",
    "\n",
    "for i in range(1,len(sum_set)):\n",
    "    if i in sum_set:\n",
    "        pass\n",
    "    else:\n",
    "        print(f'The missing sum is {i}')\n",
    "        break"
   ]
  },
  {
   "cell_type": "code",
   "execution_count": 81,
   "id": "attempted-butterfly",
   "metadata": {
    "slideshow": {
     "slide_type": "slide"
    }
   },
   "outputs": [
    {
     "name": "stdout",
     "output_type": "stream",
     "text": [
      "Time taken for execution 177.52408981323242 ms\n"
     ]
    }
   ],
   "source": [
    "#usual method\n",
    "start = time.time()\n",
    "\n",
    "def sub_sets(l): \n",
    "    base = []   \n",
    "    sub_lists = [base] \n",
    "    for i in range(len(l)): \n",
    "        orig = sub_lists[:] \n",
    "        new = l[i] \n",
    "        for j in range(len(sub_lists)): \n",
    "            sub_lists[j] = sub_lists[j] + [new] \n",
    "        sub_lists = orig + sub_lists \n",
    "          \n",
    "    return sub_lists \n",
    "  \n",
    "subsets = sub_sets(coins)\n",
    "\n",
    "\n",
    "sum_list = []\n",
    "for i in range(1,len(subsets)):\n",
    "    if len(subsets[i])>1:\n",
    "        sum_x = 0\n",
    "        for j in range(len(subsets[i])):\n",
    "            sum_x +=subsets[i][j]\n",
    "        sum_list.append(sum_x)\n",
    "    else:\n",
    "        sum_list.append(subsets[i][0])\n",
    "\n",
    "\n",
    "sum_set = set(sum_list)\n",
    "\n",
    "for i in range(1,len(sum_set)):\n",
    "    if i in sum_set:\n",
    "        pass\n",
    "    else:\n",
    "        print(f'The missing sum is {i}')\n",
    "        break\n",
    "        \n",
    "end = time.time()\n",
    "print(f'Time taken for execution {(end - start)*1000} ms')"
   ]
  },
  {
   "cell_type": "markdown",
   "id": "threaded-adventure",
   "metadata": {
    "slideshow": {
     "slide_type": "slide"
    }
   },
   "source": [
    "How a programmer approaches the same problem using elementary Maths"
   ]
  },
  {
   "cell_type": "code",
   "execution_count": 82,
   "id": "single-second",
   "metadata": {
    "slideshow": {
     "slide_type": "slide"
    }
   },
   "outputs": [
    {
     "name": "stdout",
     "output_type": "stream",
     "text": [
      "Time taken for execution 0.9982585906982422 ms\n"
     ]
    }
   ],
   "source": [
    "start = time.time()\n",
    "\n",
    "coins.sort() # sort coins in ascending order\n",
    "\n",
    "if coins[0]!=1:\n",
    "    print(f'The missing sum is 1')\n",
    "else:\n",
    "    sum = coins[0]\n",
    "    i = 1\n",
    "    while (coins[i]-sum < 2):\n",
    "        sum += coins[i]\n",
    "        i += 1\n",
    "#         print(i)\n",
    "        if i==len(coins):\n",
    "            break\n",
    "    if i!= len(coins):\n",
    "        print(f'The missing sum is {sum+1}')\n",
    "        \n",
    "end = time.time()\n",
    "print(f'Time taken for execution {(end - start)*1000} ms')   "
   ]
  },
  {
   "cell_type": "markdown",
   "id": "minor-combine",
   "metadata": {
    "slideshow": {
     "slide_type": "skip"
    }
   },
   "source": [
    "-----------------------------------"
   ]
  },
  {
   "cell_type": "markdown",
   "id": "changing-yesterday",
   "metadata": {
    "slideshow": {
     "slide_type": "slide"
    }
   },
   "source": [
    "# Importance of Mathematical Aptitude in Programming."
   ]
  },
  {
   "cell_type": "markdown",
   "id": "surprised-juvenile",
   "metadata": {
    "slideshow": {
     "slide_type": "slide"
    }
   },
   "source": [
    "If a simple balance is given to you using which you are supposed to weigh any object from one gram (1g) to one kilogram (1000g)\n",
    "\n",
    "1. What is the minimum number of weighing stones required?\n",
    "2. List out the values of individual stones."
   ]
  },
  {
   "cell_type": "code",
   "execution_count": 83,
   "id": "rolled-witness",
   "metadata": {
    "slideshow": {
     "slide_type": "slide"
    }
   },
   "outputs": [
    {
     "name": "stdout",
     "output_type": "stream",
     "text": [
      "stone values = 1\n",
      "stone values = 3\n",
      "stone values = 9\n",
      "stone values = 27\n",
      "stone values = 81\n",
      "stone values = 243\n",
      "stone values = 729\n",
      "No of stones = 7\n"
     ]
    }
   ],
   "source": [
    "sum = 0\n",
    "\n",
    "count = 0\n",
    "\n",
    "while sum<=1000:\n",
    "    a = (2*sum) + 1\n",
    "    print(f'stone values = {a}')\n",
    "    \n",
    "    sum += a\n",
    "    \n",
    "    count += 1\n",
    "    \n",
    "print(f'No of stones = {count}')"
   ]
  },
  {
   "cell_type": "markdown",
   "id": "twelve-enough",
   "metadata": {
    "slideshow": {
     "slide_type": "slide"
    }
   },
   "source": [
    "# Career Recruitment Training\n",
    "\n",
    "[Enroll Now](https://skilldisk.com/course/campus-recruitment-training/)"
   ]
  }
 ],
 "metadata": {
  "kernelspec": {
   "display_name": "Python 3",
   "language": "python",
   "name": "python3"
  },
  "language_info": {
   "codemirror_mode": {
    "name": "ipython",
    "version": 3
   },
   "file_extension": ".py",
   "mimetype": "text/x-python",
   "name": "python",
   "nbconvert_exporter": "python",
   "pygments_lexer": "ipython3",
   "version": "3.8.5"
  },
  "rise": {
   "autolaunch": true,
   "enable_chalkboard": true,
   "footer": "<h3>Joy of Mathematics using Python!</h3>",
   "header": "<h1>Skill Disk</h1>",
   "scroll": true,
   "theme": "beige"
  }
 },
 "nbformat": 4,
 "nbformat_minor": 5
}
